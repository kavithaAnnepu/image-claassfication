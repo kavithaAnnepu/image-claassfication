{
  "cells": [
    {
      "cell_type": "code",
      "execution_count": null,
      "metadata": {
        "colab": {
          "base_uri": "https://localhost:8080/"
        },
        "id": "H7wWa6SOlpa1",
        "outputId": "19486bf8-8d62-430f-989c-d56c070b80e1"
      },
      "outputs": [
        {
          "output_type": "stream",
          "name": "stdout",
          "text": [
            "Looking in indexes: https://pypi.org/simple, https://us-python.pkg.dev/colab-wheels/public/simple/\n",
            "Requirement already satisfied: xlrd in /usr/local/lib/python3.7/dist-packages (2.0.1)\n"
          ]
        }
      ],
      "source": [
        "import torch\n",
        "import torchvision\n",
        "import torch.nn as nn\n",
        "import torchvision.transforms.functional as TF\n",
        "import torchvision.transforms as transforms\n",
        "from torchvision import datasets, models, transforms\n",
        "import os\n",
        "from PIL import Image\n",
        "from torch.utils.data import Dataset, DataLoader\n",
        "import numpy as np\n",
        "import albumentations as A\n",
        "import matplotlib.pyplot as plt\n",
        "#from albumentations.pytorch import ToTensorV2\n",
        "from tqdm import tqdm,trange\n",
        "import torch.optim as optim\n",
        "from numba import cuda\n",
        "from torch.nn import functional as F \n",
        "import pandas as pd\n",
        "!pip install --upgrade xlrd\n",
        "import time"
      ]
    },
    {
      "cell_type": "code",
      "execution_count": null,
      "metadata": {
        "colab": {
          "base_uri": "https://localhost:8080/"
        },
        "id": "PZyCJti6mGN2",
        "outputId": "ee638508-3014-418f-e6fe-38bbca6c79c3"
      },
      "outputs": [
        {
          "output_type": "stream",
          "name": "stdout",
          "text": [
            "Drive already mounted at /content/drive; to attempt to forcibly remount, call drive.mount(\"/content/drive\", force_remount=True).\n"
          ]
        }
      ],
      "source": [
        "from google.colab import drive\n",
        "drive.mount('/content/drive')"
      ]
    },
    {
      "cell_type": "code",
      "execution_count": null,
      "metadata": {
        "colab": {
          "base_uri": "https://localhost:8080/"
        },
        "id": "5UdOxgK1mG3T",
        "outputId": "515701b9-5be5-4daa-e3e7-0a5e270a087a"
      },
      "outputs": [
        {
          "output_type": "stream",
          "name": "stdout",
          "text": [
            "cuda\n"
          ]
        }
      ],
      "source": [
        "DEVICE = \"cuda\" if torch.cuda.is_available() else \"cpu\"\n",
        "#DEVICE = \"cpu\"\n",
        "print(DEVICE)\n",
        "data_dir=\"/content/drive/MyDrive/Bengali-CFY/Bengali-CFY/data\"\n",
        "label_dir=\"/content/drive/MyDrive/Bengali-CFY/Bengali-CFY/labels.xls\""
      ]
    },
    {
      "cell_type": "code",
      "execution_count": null,
      "metadata": {
        "id": "hZWec3XcmScG"
      },
      "outputs": [],
      "source": [
        "class Devseg_data(Dataset):\n",
        "    def __init__(self, data_dir,label_dir, transform = None):\n",
        "        self.datapath=data_dir\n",
        "        self.df=pd.read_excel(label_dir)\n",
        "        self.transform=transform\n",
        "    \n",
        "    def __len__(self):\n",
        "        return len(self.df)\n",
        "    \n",
        "    def __getitem__(self, index):\n",
        "        self.image=self.transform(Image.open(self.datapath+'/'+self.df.iloc[index,0]+'.jpg'))\n",
        "        self.label=torch.tensor(self.df.iloc[index,1])\n",
        "        return self.image,self.label"
      ]
    },
    {
      "cell_type": "code",
      "execution_count": null,
      "metadata": {
        "id": "WYj-3Q2WmUt7"
      },
      "outputs": [],
      "source": [
        "def get_loaders(\n",
        "    image_dir,\n",
        "    label_dir,\n",
        "    batch_size,\n",
        "    transform,\n",
        "    num_workers = 0,\n",
        "    pin_memory = True):\n",
        "\n",
        "    dataset = Devseg_data(\n",
        "        data_dir = data_dir,\n",
        "        label_dir=label_dir,\n",
        "        transform=transform)\n",
        "    train_size = int(0.7*len(dataset))\n",
        "    val_size=int(0.1*len(dataset))\n",
        "    test_size=len(dataset)-train_size-val_size\n",
        "    print(f\"Train size = {train_size}\")\n",
        "    print(f\"Val size = {val_size}\")\n",
        "    print(f\"test_size={test_size}\")\n",
        "    train_ds, val_ds,test_ds = torch.utils.data.random_split(dataset,[train_size,val_size,test_size])\n",
        "    train_loader = DataLoader(\n",
        "            train_ds,\n",
        "            batch_size=batch_size,\n",
        "            num_workers=num_workers,\n",
        "            pin_memory=pin_memory,\n",
        "            shuffle = True)\n",
        "    \n",
        "    val_loader = DataLoader(\n",
        "            val_ds,\n",
        "            batch_size=batch_size,\n",
        "            num_workers=num_workers,\n",
        "            pin_memory=pin_memory,\n",
        "            shuffle = False)\n",
        "    test_loader = DataLoader(\n",
        "            test_ds,\n",
        "            batch_size=batch_size,\n",
        "            num_workers=num_workers,\n",
        "            pin_memory=pin_memory,\n",
        "            shuffle = False)\n",
        "    \n",
        "    return dataset,train_loader, val_loader,test_loader"
      ]
    },
    {
      "cell_type": "code",
      "execution_count": null,
      "metadata": {
        "colab": {
          "base_uri": "https://localhost:8080/"
        },
        "id": "rk7GVieJmXh0",
        "outputId": "e9d1775b-b71b-4c5c-cb15-fa64c6b9a85e"
      },
      "outputs": [
        {
          "output_type": "stream",
          "name": "stdout",
          "text": [
            "Train size = 974\n",
            "Val size = 139\n",
            "test_size=279\n"
          ]
        },
        {
          "output_type": "execute_result",
          "data": {
            "text/plain": [
              "torch.utils.data.dataloader.DataLoader"
            ]
          },
          "metadata": {},
          "execution_count": 27
        }
      ],
      "source": [
        "BATCH_SIZE=10\n",
        "NUM_WORKERS=0\n",
        "PIN_MEMORY=True\n",
        "transform=transforms.Compose([transforms.Resize(255),transforms.ToTensor()])\n",
        "a,train_loader, val_loader,test_loader = get_loaders(\n",
        "        data_dir,\n",
        "        label_dir,\n",
        "        BATCH_SIZE,\n",
        "        transform,\n",
        "        NUM_WORKERS,\n",
        "        PIN_MEMORY)\n",
        "type(train_loader)"
      ]
    },
    {
      "cell_type": "code",
      "execution_count": null,
      "metadata": {
        "colab": {
          "base_uri": "https://localhost:8080/",
          "height": 287
        },
        "id": "jAPqOJdImaPF",
        "outputId": "8383c477-0726-4d33-9867-2b43cc09f911"
      },
      "outputs": [
        {
          "output_type": "execute_result",
          "data": {
            "text/plain": [
              "<matplotlib.image.AxesImage at 0x7fafcc3be1d0>"
            ]
          },
          "metadata": {},
          "execution_count": 28
        },
        {
          "output_type": "display_data",
          "data": {
            "text/plain": [
              "<Figure size 432x288 with 1 Axes>"
            ],
            "image/png": "[encoded data removed]"
          },
          "metadata": {
            "needs_background": "light"
          }
        }
      ],
      "source": [
        "m,n=a[5] \n",
        "#print(m.shape)\n",
        "plt.imshow(m.T)"
      ]
    },
    {
      "cell_type": "code",
      "source": [
        "class LeNet(nn.Module):\n",
        "    def __init__(self, output_dim):\n",
        "        super().__init__()\n",
        "\n",
        "        self.conv1 = nn.Conv2d(in_channels=3,\n",
        "                               out_channels=6,\n",
        "                               kernel_size=5)\n",
        "\n",
        "        self.conv2 = nn.Conv2d(in_channels=6,\n",
        "                               out_channels=16,\n",
        "                               kernel_size=5)\n",
        "\n",
        "        self.fc_1 = nn.Linear(16 * 4 * 4, 120)\n",
        "        self.fc_2 = nn.Linear(120, 84)\n",
        "        self.fc_3 = nn.Linear(84, output_dim)\n",
        "\n",
        "    def forward(self, x):\n",
        "        x = self.conv1(x)\n",
        "        x = F.max_pool2d(x, kernel_size=2)\n",
        "        x = F.relu(x)\n",
        "        x = self.conv2(x)\n",
        "        x = F.max_pool2d(x, kernel_size=2)\n",
        "        x = F.relu(x)\n",
        "        x = x.view(x.shape[0], -1)\n",
        "        h = x\n",
        "        x = self.fc_1(x)\n",
        "        x = F.relu(x)\n",
        "        x = self.fc_2(x)\n",
        "        x = F.relu(x)\n",
        "        x = self.fc_3(x)\n",
        "\n",
        "        return x, h"
      ],
      "metadata": {
        "id": "_N4zHtEioIxR"
      },
      "execution_count": null,
      "outputs": []
    },
    {
      "cell_type": "code",
      "source": [
        "class MLP(nn.Module):\n",
        "    def __init__(self, input_dim, output_dim):\n",
        "        super().__init__()\n",
        "\n",
        "        self.input_fc = nn.Linear(input_dim, 250)\n",
        "        self.hidden_fc = nn.Linear(250, 100)\n",
        "        self.output_fc = nn.Linear(100, output_dim)\n",
        "\n",
        "    def forward(self, x):\n",
        "        batch_size = x.shape[0]\n",
        "        x = x.view(batch_size, -1)\n",
        "        h_1 = F.relu(self.input_fc(x))\n",
        "        h_2 = F.relu(self.hidden_fc(h_1))\n",
        "        y_pred = self.output_fc(h_2)\n",
        "        return y_pred, h_2"
      ],
      "metadata": {
        "id": "hCeeA-tSJk_4"
      },
      "execution_count": null,
      "outputs": []
    },
    {
      "cell_type": "code",
      "source": [
        "class AlexNet(nn.Module):\n",
        "    def __init__(self, output_dim):\n",
        "        super().__init__()\n",
        "\n",
        "        self.features = nn.Sequential(\n",
        "            nn.Conv2d(3, 64, 3, 2, 1),  # in_channels, out_channels, kernel_size, stride, padding\n",
        "            nn.MaxPool2d(2),  # kernel_size\n",
        "            nn.ReLU(inplace=True),\n",
        "            nn.Conv2d(64, 192, 3, padding=1),\n",
        "            nn.MaxPool2d(2),\n",
        "            nn.ReLU(inplace=True),\n",
        "            nn.Conv2d(192, 384, 3, padding=1),\n",
        "            nn.ReLU(inplace=True),\n",
        "            nn.Conv2d(384, 256, 3, padding=1),\n",
        "            nn.ReLU(inplace=True),\n",
        "            nn.Conv2d(256, 256, 3, padding=1),\n",
        "            nn.MaxPool2d(2),\n",
        "            nn.ReLU(inplace=True)\n",
        "        )\n",
        "\n",
        "        self.classifier = nn.Sequential(\n",
        "            nn.Dropout(0.5),\n",
        "            nn.Linear(256 * 2 * 2, 4096),\n",
        "            nn.ReLU(inplace=True),\n",
        "            nn.Dropout(0.5),\n",
        "            nn.Linear(4096, 4096),\n",
        "            nn.ReLU(inplace=True),\n",
        "            nn.Linear(4096, output_dim),\n",
        "        )\n",
        "\n",
        "    def forward(self, x):\n",
        "        x = self.features(x)\n",
        "        h = x.view(x.shape[0], -1)\n",
        "        x = self.classifier(h)\n",
        "        return x, h"
      ],
      "metadata": {
        "id": "czO2uit7UNhb"
      },
      "execution_count": null,
      "outputs": []
    },
    {
      "cell_type": "code",
      "source": [
        "class VGG16_NET(nn.Module):\n",
        "    def __init__(self):\n",
        "        super(VGG16_NET, self).__init__()\n",
        "        self.conv1 = nn.Conv2d(in_channels=3, out_channels=64, kernel_size=3, padding=1)\n",
        "        self.conv2 = nn.Conv2d(in_channels=64, out_channels=64, kernel_size=3, padding=1)\n",
        "\n",
        "        self.conv3 = nn.Conv2d(in_channels=64, out_channels=128, kernel_size=3, padding=1)\n",
        "        self.conv4 = nn.Conv2d(in_channels=128, out_channels=128, kernel_size=3, padding=1)\n",
        "\n",
        "        self.conv5 = nn.Conv2d(in_channels=128, out_channels=256, kernel_size=3, padding=1)\n",
        "        self.conv6 = nn.Conv2d(in_channels=256, out_channels=256, kernel_size=3, padding=1)\n",
        "        self.conv7 = nn.Conv2d(in_channels=256, out_channels=256, kernel_size=3, padding=1)\n",
        "\n",
        "        self.conv8 = nn.Conv2d(in_channels=256, out_channels=512, kernel_size=3, padding=1)\n",
        "        self.conv9 = nn.Conv2d(in_channels=512, out_channels=512, kernel_size=3, padding=1)\n",
        "        self.conv10 = nn.Conv2d(in_channels=512, out_channels=512, kernel_size=3, padding=1)\n",
        "        self.conv11 = nn.Conv2d(in_channels=512, out_channels=512, kernel_size=3, padding=1)\n",
        "        self.conv12 = nn.Conv2d(in_channels=512, out_channels=512, kernel_size=3, padding=1)\n",
        "        self.conv13 = nn.Conv2d(in_channels=512, out_channels=512, kernel_size=3, padding=1)\n",
        "\n",
        "        self.maxpool = nn.MaxPool2d(kernel_size=2, stride=2)\n",
        "\n",
        "        self.fc14 = nn.Linear(8192, 4096)\n",
        "        self.fc15 = nn.Linear(4096, 4096)\n",
        "        self.fc16 = nn.Linear(4096, 10)\n",
        "\n",
        "    def forward(self, x):\n",
        "        x = F.relu(self.conv1(x))\n",
        "        x = F.relu(self.conv2(x))\n",
        "        x = self.maxpool(x)\n",
        "        x = F.relu(self.conv3(x))\n",
        "        x = F.relu(self.conv4(x))\n",
        "        x = self.maxpool(x)\n",
        "        x = F.relu(self.conv5(x))\n",
        "        x = F.relu(self.conv6(x))\n",
        "        x = F.relu(self.conv7(x))\n",
        "        x = self.maxpool(x)\n",
        "        x = F.relu(self.conv8(x))\n",
        "        x = F.relu(self.conv9(x))\n",
        "        x = F.relu(self.conv10(x))\n",
        "        x = self.maxpool(x)\n",
        "        x = F.relu(self.conv11(x))\n",
        "        x = F.relu(self.conv12(x))\n",
        "        x = F.relu(self.conv13(x))\n",
        "        x = self.maxpool(x)\n",
        "        x = x.reshape(x.shape[0], -1)\n",
        "        x = F.relu(self.fc14(x))\n",
        "        x = F.dropout(x, 0.5) \n",
        "        x = F.relu(self.fc15(x))\n",
        "        x = F.dropout(x, 0.5)\n",
        "        x = self.fc16(x)\n",
        "\n",
        "        return x,x"
      ],
      "metadata": {
        "id": "PCbjfIq62CQn"
      },
      "execution_count": null,
      "outputs": []
    },
    {
      "cell_type": "code",
      "execution_count": null,
      "metadata": {
        "id": "pAc2Kx-amgdm"
      },
      "outputs": [],
      "source": [
        "def calculate_accuracy(y_pred, y):\n",
        "    top_pred = y_pred.argmax(1, keepdim=True)\n",
        "    correct = top_pred.eq(y.view_as(top_pred)).sum()\n",
        "    acc = correct.float() / y.shape[0]\n",
        "    return acc"
      ]
    },
    {
      "cell_type": "code",
      "execution_count": null,
      "metadata": {
        "id": "oLqRwt_Pmjzf"
      },
      "outputs": [],
      "source": [
        "def train_fn(loader,model,optimizer,criterion,):\n",
        "  epoch_loss = 0\n",
        "  epoch_acc = 0\n",
        "  num_epochs=5\n",
        "  model.train()\n",
        "  for epoch in range(num_epochs):\n",
        "    loop = tqdm(loader)\n",
        "    for batch_idx, (x,y) in enumerate(loop):\n",
        "          \n",
        "          x=x.to(device=DEVICE)\n",
        "          y=y.to(device=DEVICE)\n",
        "          optimizer.zero_grad()\n",
        "          y_pred,_=model(x)\n",
        "          m=nn.LogSoftmax(dim=1)\n",
        "          loss=criterion(m(y_pred),y)\n",
        "          acc = calculate_accuracy(m(y_pred), y)\n",
        "          loss.backward()\n",
        "\n",
        "          optimizer.step()\n",
        "\n",
        "          epoch_loss += loss.item()\n",
        "          epoch_acc += acc.item()\n",
        "          loop.set_postfix(loss=loss.item())\n",
        "    return epoch_loss / len(loader), epoch_acc / len(loader)\n",
        "    "
      ]
    },
    {
      "cell_type": "code",
      "execution_count": null,
      "metadata": {
        "id": "Q33K6N9WmmEJ"
      },
      "outputs": [],
      "source": [
        "def evaluate(loader,model,criterion,):\n",
        "  epoch_loss = 0\n",
        "  epoch_acc = 0\n",
        "  num_epochs=5\n",
        "  model.eval()\n",
        "  for epoch in range(num_epochs):\n",
        "    loop = tqdm(loader)\n",
        "    for batch_idx, (x,y) in enumerate(loop):\n",
        "          \n",
        "          x=x.to(device=DEVICE)\n",
        "          y=y.to(device=DEVICE)\n",
        "          y_pred,_=model(x)\n",
        "          m=nn.LogSoftmax(dim=1)\n",
        "          loss=criterion(m(y_pred),y)\n",
        "          acc = calculate_accuracy(m(y_pred), y)\n",
        "          epoch_loss += loss.item()\n",
        "          epoch_acc += acc.item()\n",
        "          loop.set_postfix(loss=loss.item())\n",
        "    return epoch_loss / len(loader), epoch_acc / len(loader)\n",
        "    "
      ]
    },
    {
      "cell_type": "code",
      "execution_count": null,
      "metadata": {
        "id": "dnF12qhbmoxH"
      },
      "outputs": [],
      "source": [
        "def epoch_time(start_time, end_time):\n",
        "    elapsed_time = end_time - start_time\n",
        "    elapsed_mins = int(elapsed_time / 60)\n",
        "    elapsed_secs = int(elapsed_time - (elapsed_mins * 60))\n",
        "    return elapsed_mins, elapsed_secs"
      ]
    },
    {
      "cell_type": "code",
      "source": [
        "def lenet():\n",
        "  print(\"LENET implementation\")\n",
        "  transform=transforms.Compose([transforms.Resize((28,28)),transforms.ToTensor()])\n",
        "  learning_rate = 0.001\n",
        "  num_epochs = 7\n",
        "  BATCH_SIZE=5\n",
        "  NUM_WORKERS=0;\n",
        "  PIN_MEMORY=False\n",
        "  OUTPUT_DIM = 10\n",
        "  model = LeNet(OUTPUT_DIM).cuda()\n",
        "  model.train()\n",
        "  criterion = nn.NLLLoss()\n",
        "  model = model.to(DEVICE)\n",
        "  criterion = criterion.to(DEVICE)\n",
        "  best_valid_loss = float('inf')\n",
        "  optimizer=torch.optim.Adam(model.parameters(),lr=learning_rate)\n",
        "  a,train_loader, val_loader,test_loader = get_loaders(\n",
        "        data_dir,\n",
        "        label_dir,\n",
        "        BATCH_SIZE,\n",
        "        transform,\n",
        "        NUM_WORKERS,\n",
        "        PIN_MEMORY)\n",
        "\n",
        "  for epoch in range(num_epochs):\n",
        "    start_time = time.monotonic()\n",
        "    train_loss, train_acc=train_fn(train_loader, model, optimizer,criterion)\n",
        "    valid_loss, valid_acc =evaluate(val_loader,model,criterion)\n",
        "    test_loss, test_acc = evaluate( test_loader,model,criterion)\n",
        "  \n",
        "    if valid_loss < best_valid_loss:\n",
        "          best_valid_loss = valid_loss\n",
        "          torch.save(model.state_dict(), 'tut2-model.pt')\n",
        "\n",
        "    end_time = time.monotonic()\n",
        "\n",
        "    epoch_mins, epoch_secs = epoch_time(start_time, end_time)\n",
        "\n",
        "    print(f'Epoch: {epoch+1:02} | Epoch Time: {epoch_mins}m {epoch_secs}s')\n",
        "    print(f'\\tTrain Loss: {train_loss:.3f} | Train Acc: {train_acc*100:.2f}%')\n",
        "    print(f'\\t Val. Loss: {valid_loss:.3f} |  Val. Acc: {valid_acc*100:.2f}%')\n",
        "    print(f'Test Loss: {test_loss:.3f} | Test Acc: {test_acc*100:.2f}%')\n",
        "\n"
      ],
      "metadata": {
        "id": "8c7zvRzjKe_r"
      },
      "execution_count": null,
      "outputs": []
    },
    {
      "cell_type": "code",
      "source": [
        "def MLP_NET():\n",
        "  print(\"MLP implementation\")\n",
        "  transform=transforms.Compose([transforms.Resize((16,26)),transforms.ToTensor()])\n",
        "  learning_rate = 0.001\n",
        "  num_epochs = 7\n",
        "  BATCH_SIZE=5\n",
        "  NUM_WORKERS=0;\n",
        "  PIN_MEMORY=False\n",
        "  OUTPUT_DIM = 10\n",
        "  INPUT_DIM=3*16*26\n",
        "  model = MLP(INPUT_DIM,OUTPUT_DIM).cuda()\n",
        "  model.train()\n",
        "  criterion = nn.NLLLoss()\n",
        "  model = model.to(DEVICE)\n",
        "  criterion = criterion.to(DEVICE)\n",
        "  best_valid_loss = float('inf')\n",
        "  optimizer=torch.optim.Adam(model.parameters(),lr=learning_rate)\n",
        "  a,train_loader, val_loader,test_loader = get_loaders(\n",
        "        data_dir,\n",
        "        label_dir,\n",
        "        BATCH_SIZE,\n",
        "        transform,\n",
        "        NUM_WORKERS,\n",
        "        PIN_MEMORY)\n",
        "\n",
        "  for epoch in range(num_epochs):\n",
        "    start_time = time.monotonic()\n",
        "    train_loss, train_acc=train_fn(train_loader, model, optimizer,criterion)\n",
        "    valid_loss, valid_acc =evaluate(val_loader,model,criterion)\n",
        "    test_loss, test_acc = evaluate( test_loader,model,criterion)\n",
        "  \n",
        "    if valid_loss < best_valid_loss:\n",
        "          best_valid_loss = valid_loss\n",
        "          torch.save(model.state_dict(), 'tut2-model.pt')\n",
        "\n",
        "    end_time = time.monotonic()\n",
        "\n",
        "    epoch_mins, epoch_secs = epoch_time(start_time, end_time)\n",
        "\n",
        "    print(f'Epoch: {epoch+1:02} | Epoch Time: {epoch_mins}m {epoch_secs}s')\n",
        "    print(f'\\tTrain Loss: {train_loss:.3f} | Train Acc: {train_acc*100:.2f}%')\n",
        "    print(f'\\t Val. Loss: {valid_loss:.3f} |  Val. Acc: {valid_acc*100:.2f}%')\n",
        "    print(f'Test Loss: {test_loss:.3f} | Test Acc: {test_acc*100:.2f}%')\n",
        "\n",
        "\n"
      ],
      "metadata": {
        "id": "KugLRH0SLPgn"
      },
      "execution_count": null,
      "outputs": []
    },
    {
      "cell_type": "code",
      "source": [
        "def alexnet_NET():\n",
        "  print(\"alexnet implementation\")\n",
        "  transform=transforms.Compose([transforms.Resize((32,32)),transforms.ToTensor()])\n",
        "  learning_rate = 0.001\n",
        "  num_epochs = 7\n",
        "  BATCH_SIZE=5\n",
        "  NUM_WORKERS=0;\n",
        "  PIN_MEMORY=False\n",
        "  OUTPUT_DIM=10\n",
        "  model=AlexNet(OUTPUT_DIM)\n",
        "  model.train()\n",
        "  criterion = nn.NLLLoss()\n",
        "  model = model.to(DEVICE)\n",
        "  criterion = criterion.to(DEVICE)\n",
        "  best_valid_loss = float('inf')\n",
        "  optimizer=torch.optim.Adam(model.parameters(),lr=learning_rate)\n",
        "  a,train_loader, val_loader,test_loader = get_loaders(\n",
        "        data_dir,\n",
        "        label_dir,\n",
        "        BATCH_SIZE,\n",
        "        transform,\n",
        "        NUM_WORKERS,\n",
        "        PIN_MEMORY)\n",
        "\n",
        "  for epoch in range(num_epochs):\n",
        "    start_time = time.monotonic()\n",
        "    train_loss, train_acc=train_fn(train_loader, model, optimizer,criterion)\n",
        "    valid_loss, valid_acc =evaluate(val_loader,model,criterion)\n",
        "    test_loss, test_acc = evaluate( test_loader,model,criterion)\n",
        "  \n",
        "    if valid_loss < best_valid_loss:\n",
        "          best_valid_loss = valid_loss\n",
        "          torch.save(model.state_dict(), 'tut2-model.pt')\n",
        "\n",
        "    end_time = time.monotonic()\n",
        "\n",
        "    epoch_mins, epoch_secs = epoch_time(start_time, end_time)\n",
        "\n",
        "    print(f'Epoch: {epoch+1:02} | Epoch Time: {epoch_mins}m {epoch_secs}s')\n",
        "    print(f'\\tTrain Loss: {train_loss:.3f} | Train Acc: {train_acc*100:.2f}%')\n",
        "    print(f'\\t Val. Loss: {valid_loss:.3f} |  Val. Acc: {valid_acc*100:.2f}%')\n",
        "    print(f'Test Loss: {test_loss:.3f} | Test Acc: {test_acc*100:.2f}%')\n",
        "\n",
        "\n"
      ],
      "metadata": {
        "id": "xMaBu1gVQTQ-"
      },
      "execution_count": null,
      "outputs": []
    },
    {
      "cell_type": "code",
      "source": [
        "def vggnet_NET():\n",
        "  print(\"vggnet-implementation\")\n",
        "  transform=transforms.Compose([transforms.Resize((128,128)),transforms.ToTensor()])\n",
        "  learning_rate = 0.001\n",
        "  num_epochs = 7\n",
        "  BATCH_SIZE=5\n",
        "  NUM_WORKERS=0;\n",
        "  PIN_MEMORY=False\n",
        "  model=VGG16_NET()\n",
        "  model.train()\n",
        "  criterion = nn.NLLLoss()\n",
        "  model = model.to(DEVICE)\n",
        "  criterion = criterion.to(DEVICE)\n",
        "  best_valid_loss = float('inf')\n",
        "  optimizer=torch.optim.Adam(model.parameters(),lr=learning_rate)\n",
        "  a,train_loader, val_loader,test_loader = get_loaders(\n",
        "        data_dir,\n",
        "        label_dir,\n",
        "        BATCH_SIZE,\n",
        "        transform,\n",
        "        NUM_WORKERS,\n",
        "        PIN_MEMORY)\n",
        "\n",
        "  for epoch in range(num_epochs):\n",
        "    start_time = time.monotonic()\n",
        "    train_loss, train_acc=train_fn(train_loader, model, optimizer,criterion)\n",
        "    valid_loss, valid_acc =evaluate(val_loader,model,criterion)\n",
        "    test_loss, test_acc = evaluate( test_loader,model,criterion)\n",
        "  \n",
        "    if valid_loss < best_valid_loss:\n",
        "          best_valid_loss = valid_loss\n",
        "          torch.save(model.state_dict(), 'tut2-model.pt')\n",
        "\n",
        "    end_time = time.monotonic()\n",
        "\n",
        "    epoch_mins, epoch_secs = epoch_time(start_time, end_time)\n",
        "\n",
        "    print(f'Epoch: {epoch+1:02} | Epoch Time: {epoch_mins}m {epoch_secs}s')\n",
        "    print(f'\\tTrain Loss: {train_loss:.3f} | Train Acc: {train_acc*100:.2f}%')\n",
        "    print(f'\\t Val. Loss: {valid_loss:.3f} |  Val. Acc: {valid_acc*100:.2f}%')\n",
        "    print(f'Test Loss: {test_loss:.3f} | Test Acc: {test_acc*100:.2f}%')\n",
        "\n",
        "\n"
      ],
      "metadata": {
        "id": "DLXpZfQDRVxn"
      },
      "execution_count": null,
      "outputs": []
    },
    {
      "cell_type": "code",
      "source": [
        "def main():\n",
        "  model1=vggnet_NET()\n",
        "  model2=alexnet_NET()\n",
        "  model3=MLP_NET()\n",
        "  model4 = lenet()\n",
        "  \n",
        "  \n",
        "  \n"
      ],
      "metadata": {
        "id": "fbV6havSOeAN"
      },
      "execution_count": null,
      "outputs": []
    },
    {
      "cell_type": "code",
      "execution_count": null,
      "metadata": {
        "colab": {
          "base_uri": "https://localhost:8080/"
        },
        "id": "bIEvcu82mt7l",
        "outputId": "c5cf7f2e-08ee-4b61-d514-dbee9dfca2c9"
      },
      "outputs": [
        {
          "output_type": "stream",
          "name": "stdout",
          "text": [
            "vggnet-implementation\n",
            "Train size = 974\n",
            "Val size = 139\n",
            "test_size=279\n"
          ]
        },
        {
          "output_type": "stream",
          "name": "stderr",
          "text": [
            "100%|██████████| 195/195 [00:13<00:00, 14.25it/s, loss=2.31]\n",
            "100%|██████████| 28/28 [00:00<00:00, 31.37it/s, loss=2.31]\n",
            "100%|██████████| 56/56 [00:01<00:00, 28.96it/s, loss=2.2]\n"
          ]
        },
        {
          "output_type": "stream",
          "name": "stdout",
          "text": [
            "Epoch: 01 | Epoch Time: 0m 17s\n",
            "\tTrain Loss: 2.244 | Train Acc: 17.97%\n",
            "\t Val. Loss: 2.186 |  Val. Acc: 22.32%\n",
            "Test Loss: 2.266 | Test Acc: 18.66%\n"
          ]
        },
        {
          "output_type": "stream",
          "name": "stderr",
          "text": [
            "100%|██████████| 195/195 [00:14<00:00, 13.60it/s, loss=2.46]\n",
            "100%|██████████| 28/28 [00:00<00:00, 44.38it/s, loss=2.25]\n",
            "100%|██████████| 56/56 [00:01<00:00, 43.84it/s, loss=2.18]\n"
          ]
        },
        {
          "output_type": "stream",
          "name": "stdout",
          "text": [
            "Epoch: 02 | Epoch Time: 0m 16s\n",
            "\tTrain Loss: 2.229 | Train Acc: 19.90%\n",
            "\t Val. Loss: 2.210 |  Val. Acc: 23.04%\n",
            "Test Loss: 2.267 | Test Acc: 18.66%\n"
          ]
        },
        {
          "output_type": "stream",
          "name": "stderr",
          "text": [
            "100%|██████████| 195/195 [00:13<00:00, 14.67it/s, loss=2.45]\n",
            "100%|██████████| 28/28 [00:00<00:00, 45.07it/s, loss=2.16]\n",
            "100%|██████████| 56/56 [00:01<00:00, 42.83it/s, loss=2.08]\n"
          ]
        },
        {
          "output_type": "stream",
          "name": "stdout",
          "text": [
            "Epoch: 03 | Epoch Time: 0m 15s\n",
            "\tTrain Loss: 2.227 | Train Acc: 20.10%\n",
            "\t Val. Loss: 2.205 |  Val. Acc: 22.32%\n",
            "Test Loss: 2.271 | Test Acc: 18.66%\n"
          ]
        },
        {
          "output_type": "stream",
          "name": "stderr",
          "text": [
            "100%|██████████| 195/195 [00:13<00:00, 14.73it/s, loss=2.4]\n",
            "100%|██████████| 28/28 [00:00<00:00, 43.56it/s, loss=2.21]\n",
            "100%|██████████| 56/56 [00:01<00:00, 42.79it/s, loss=2.13]\n"
          ]
        },
        {
          "output_type": "stream",
          "name": "stdout",
          "text": [
            "Epoch: 04 | Epoch Time: 0m 15s\n",
            "\tTrain Loss: 2.220 | Train Acc: 20.31%\n",
            "\t Val. Loss: 2.200 |  Val. Acc: 22.32%\n",
            "Test Loss: 2.263 | Test Acc: 18.66%\n"
          ]
        },
        {
          "output_type": "stream",
          "name": "stderr",
          "text": [
            "100%|██████████| 195/195 [00:13<00:00, 14.71it/s, loss=2.29]\n",
            "100%|██████████| 28/28 [00:00<00:00, 44.58it/s, loss=2.24]\n",
            "100%|██████████| 56/56 [00:01<00:00, 43.65it/s, loss=2.15]\n"
          ]
        },
        {
          "output_type": "stream",
          "name": "stdout",
          "text": [
            "Epoch: 05 | Epoch Time: 0m 15s\n",
            "\tTrain Loss: 2.226 | Train Acc: 20.33%\n",
            "\t Val. Loss: 2.186 |  Val. Acc: 22.32%\n",
            "Test Loss: 2.257 | Test Acc: 18.66%\n"
          ]
        },
        {
          "output_type": "stream",
          "name": "stderr",
          "text": [
            "100%|██████████| 195/195 [00:13<00:00, 14.68it/s, loss=1.88]\n",
            "100%|██████████| 28/28 [00:00<00:00, 44.44it/s, loss=2.17]\n",
            "100%|██████████| 56/56 [00:01<00:00, 43.53it/s, loss=2.13]\n"
          ]
        },
        {
          "output_type": "stream",
          "name": "stdout",
          "text": [
            "Epoch: 06 | Epoch Time: 0m 15s\n",
            "\tTrain Loss: 2.215 | Train Acc: 20.38%\n",
            "\t Val. Loss: 2.213 |  Val. Acc: 22.32%\n",
            "Test Loss: 2.260 | Test Acc: 18.66%\n"
          ]
        },
        {
          "output_type": "stream",
          "name": "stderr",
          "text": [
            "100%|██████████| 195/195 [00:13<00:00, 14.35it/s, loss=2.32]\n",
            "100%|██████████| 28/28 [00:00<00:00, 44.21it/s, loss=2.22]\n",
            "100%|██████████| 56/56 [00:01<00:00, 43.68it/s, loss=2.17]\n"
          ]
        },
        {
          "output_type": "stream",
          "name": "stdout",
          "text": [
            "Epoch: 07 | Epoch Time: 0m 15s\n",
            "\tTrain Loss: 2.221 | Train Acc: 20.44%\n",
            "\t Val. Loss: 2.209 |  Val. Acc: 22.32%\n",
            "Test Loss: 2.260 | Test Acc: 18.66%\n",
            "alexnet implementation\n",
            "Train size = 974\n",
            "Val size = 139\n",
            "test_size=279\n"
          ]
        },
        {
          "output_type": "stream",
          "name": "stderr",
          "text": [
            "100%|██████████| 195/195 [00:04<00:00, 41.82it/s, loss=2.15]\n",
            "100%|██████████| 28/28 [00:00<00:00, 78.23it/s, loss=2.28]\n",
            "100%|██████████| 56/56 [00:00<00:00, 80.34it/s, loss=2.24]\n"
          ]
        },
        {
          "output_type": "stream",
          "name": "stdout",
          "text": [
            "Epoch: 01 | Epoch Time: 0m 5s\n",
            "\tTrain Loss: 2.249 | Train Acc: 19.15%\n",
            "\t Val. Loss: 2.252 |  Val. Acc: 19.29%\n",
            "Test Loss: 2.272 | Test Acc: 19.02%\n"
          ]
        },
        {
          "output_type": "stream",
          "name": "stderr",
          "text": [
            "100%|██████████| 195/195 [00:04<00:00, 41.86it/s, loss=1.82]\n",
            "100%|██████████| 28/28 [00:00<00:00, 81.02it/s, loss=2.22]\n",
            "100%|██████████| 56/56 [00:00<00:00, 80.25it/s, loss=2.04]\n"
          ]
        },
        {
          "output_type": "stream",
          "name": "stdout",
          "text": [
            "Epoch: 02 | Epoch Time: 0m 5s\n",
            "\tTrain Loss: 2.241 | Train Acc: 19.13%\n",
            "\t Val. Loss: 2.172 |  Val. Acc: 19.64%\n",
            "Test Loss: 2.266 | Test Acc: 15.80%\n"
          ]
        },
        {
          "output_type": "stream",
          "name": "stderr",
          "text": [
            "100%|██████████| 195/195 [00:04<00:00, 41.95it/s, loss=1.97]\n",
            "100%|██████████| 28/28 [00:00<00:00, 80.32it/s, loss=2.3]\n",
            "100%|██████████| 56/56 [00:00<00:00, 81.21it/s, loss=2.17]\n"
          ]
        },
        {
          "output_type": "stream",
          "name": "stdout",
          "text": [
            "Epoch: 03 | Epoch Time: 0m 5s\n",
            "\tTrain Loss: 2.233 | Train Acc: 19.13%\n",
            "\t Val. Loss: 2.189 |  Val. Acc: 19.29%\n",
            "Test Loss: 2.246 | Test Acc: 19.02%\n"
          ]
        },
        {
          "output_type": "stream",
          "name": "stderr",
          "text": [
            "100%|██████████| 195/195 [00:04<00:00, 41.84it/s, loss=2.51]\n",
            "100%|██████████| 28/28 [00:00<00:00, 79.46it/s, loss=2.25]\n",
            "100%|██████████| 56/56 [00:00<00:00, 78.53it/s, loss=2.14]\n"
          ]
        },
        {
          "output_type": "stream",
          "name": "stdout",
          "text": [
            "Epoch: 04 | Epoch Time: 0m 5s\n",
            "\tTrain Loss: 2.233 | Train Acc: 19.59%\n",
            "\t Val. Loss: 2.200 |  Val. Acc: 19.29%\n",
            "Test Loss: 2.244 | Test Acc: 19.02%\n"
          ]
        },
        {
          "output_type": "stream",
          "name": "stderr",
          "text": [
            "100%|██████████| 195/195 [00:04<00:00, 41.68it/s, loss=2.15]\n",
            "100%|██████████| 28/28 [00:00<00:00, 78.48it/s, loss=2.25]\n",
            "100%|██████████| 56/56 [00:00<00:00, 75.83it/s, loss=2.18]\n"
          ]
        },
        {
          "output_type": "stream",
          "name": "stdout",
          "text": [
            "Epoch: 05 | Epoch Time: 0m 5s\n",
            "\tTrain Loss: 2.228 | Train Acc: 20.64%\n",
            "\t Val. Loss: 2.211 |  Val. Acc: 19.29%\n",
            "Test Loss: 2.249 | Test Acc: 19.02%\n"
          ]
        },
        {
          "output_type": "stream",
          "name": "stderr",
          "text": [
            "100%|██████████| 195/195 [00:04<00:00, 41.66it/s, loss=2.27]\n",
            "100%|██████████| 28/28 [00:00<00:00, 75.77it/s, loss=2.34]\n",
            "100%|██████████| 56/56 [00:00<00:00, 78.47it/s, loss=2.17]\n"
          ]
        },
        {
          "output_type": "stream",
          "name": "stdout",
          "text": [
            "Epoch: 06 | Epoch Time: 0m 5s\n",
            "\tTrain Loss: 2.225 | Train Acc: 20.62%\n",
            "\t Val. Loss: 2.207 |  Val. Acc: 19.29%\n",
            "Test Loss: 2.253 | Test Acc: 19.02%\n"
          ]
        },
        {
          "output_type": "stream",
          "name": "stderr",
          "text": [
            "100%|██████████| 195/195 [00:04<00:00, 41.45it/s, loss=2.28]\n",
            "100%|██████████| 28/28 [00:00<00:00, 78.60it/s, loss=2.25]\n",
            "100%|██████████| 56/56 [00:00<00:00, 77.07it/s, loss=2.15]\n"
          ]
        },
        {
          "output_type": "stream",
          "name": "stdout",
          "text": [
            "Epoch: 07 | Epoch Time: 0m 5s\n",
            "\tTrain Loss: 2.227 | Train Acc: 20.62%\n",
            "\t Val. Loss: 2.184 |  Val. Acc: 19.29%\n",
            "Test Loss: 2.248 | Test Acc: 19.02%\n",
            "MLP implementation\n",
            "Train size = 974\n",
            "Val size = 139\n",
            "test_size=279\n"
          ]
        },
        {
          "output_type": "stream",
          "name": "stderr",
          "text": [
            "100%|██████████| 195/195 [00:02<00:00, 76.07it/s, loss=1.82]\n",
            "100%|██████████| 28/28 [00:00<00:00, 86.25it/s, loss=2.38]\n",
            "100%|██████████| 56/56 [00:00<00:00, 83.85it/s, loss=1.55]\n"
          ]
        },
        {
          "output_type": "stream",
          "name": "stdout",
          "text": [
            "Epoch: 01 | Epoch Time: 0m 3s\n",
            "\tTrain Loss: 2.213 | Train Acc: 17.97%\n",
            "\t Val. Loss: 2.032 |  Val. Acc: 26.43%\n",
            "Test Loss: 2.112 | Test Acc: 23.75%\n"
          ]
        },
        {
          "output_type": "stream",
          "name": "stderr",
          "text": [
            "100%|██████████| 195/195 [00:02<00:00, 75.86it/s, loss=1.67]\n",
            "100%|██████████| 28/28 [00:00<00:00, 84.03it/s, loss=1.65]\n",
            "100%|██████████| 56/56 [00:00<00:00, 85.25it/s, loss=0.89]\n"
          ]
        },
        {
          "output_type": "stream",
          "name": "stdout",
          "text": [
            "Epoch: 02 | Epoch Time: 0m 3s\n",
            "\tTrain Loss: 1.958 | Train Acc: 30.51%\n",
            "\t Val. Loss: 1.737 |  Val. Acc: 44.46%\n",
            "Test Loss: 1.829 | Test Acc: 38.21%\n"
          ]
        },
        {
          "output_type": "stream",
          "name": "stderr",
          "text": [
            "100%|██████████| 195/195 [00:02<00:00, 75.07it/s, loss=0.877]\n",
            "100%|██████████| 28/28 [00:00<00:00, 85.34it/s, loss=1.26]\n",
            "100%|██████████| 56/56 [00:00<00:00, 85.43it/s, loss=0.733]\n"
          ]
        },
        {
          "output_type": "stream",
          "name": "stdout",
          "text": [
            "Epoch: 03 | Epoch Time: 0m 3s\n",
            "\tTrain Loss: 1.662 | Train Acc: 44.51%\n",
            "\t Val. Loss: 1.446 |  Val. Acc: 53.21%\n",
            "Test Loss: 1.547 | Test Acc: 51.07%\n"
          ]
        },
        {
          "output_type": "stream",
          "name": "stderr",
          "text": [
            "100%|██████████| 195/195 [00:02<00:00, 75.05it/s, loss=2.06]\n",
            "100%|██████████| 28/28 [00:00<00:00, 86.89it/s, loss=1.18]\n",
            "100%|██████████| 56/56 [00:00<00:00, 85.49it/s, loss=1.17]\n"
          ]
        },
        {
          "output_type": "stream",
          "name": "stdout",
          "text": [
            "Epoch: 04 | Epoch Time: 0m 3s\n",
            "\tTrain Loss: 1.422 | Train Acc: 51.79%\n",
            "\t Val. Loss: 1.343 |  Val. Acc: 58.21%\n",
            "Test Loss: 1.394 | Test Acc: 56.25%\n"
          ]
        },
        {
          "output_type": "stream",
          "name": "stderr",
          "text": [
            "100%|██████████| 195/195 [00:02<00:00, 76.32it/s, loss=0.395]\n",
            "100%|██████████| 28/28 [00:00<00:00, 85.21it/s, loss=1.9]\n",
            "100%|██████████| 56/56 [00:00<00:00, 82.78it/s, loss=0.997]\n"
          ]
        },
        {
          "output_type": "stream",
          "name": "stdout",
          "text": [
            "Epoch: 05 | Epoch Time: 0m 3s\n",
            "\tTrain Loss: 1.288 | Train Acc: 57.21%\n",
            "\t Val. Loss: 1.350 |  Val. Acc: 59.46%\n",
            "Test Loss: 1.416 | Test Acc: 54.20%\n"
          ]
        },
        {
          "output_type": "stream",
          "name": "stderr",
          "text": [
            "100%|██████████| 195/195 [00:02<00:00, 75.19it/s, loss=0.271]\n",
            "100%|██████████| 28/28 [00:00<00:00, 83.99it/s, loss=1.46]\n",
            "100%|██████████| 56/56 [00:00<00:00, 85.29it/s, loss=0.935]\n"
          ]
        },
        {
          "output_type": "stream",
          "name": "stdout",
          "text": [
            "Epoch: 06 | Epoch Time: 0m 3s\n",
            "\tTrain Loss: 1.130 | Train Acc: 62.36%\n",
            "\t Val. Loss: 1.212 |  Val. Acc: 61.79%\n",
            "Test Loss: 1.231 | Test Acc: 58.48%\n"
          ]
        },
        {
          "output_type": "stream",
          "name": "stderr",
          "text": [
            "100%|██████████| 195/195 [00:02<00:00, 75.59it/s, loss=0.574]\n",
            "100%|██████████| 28/28 [00:00<00:00, 87.78it/s, loss=1.36]\n",
            "100%|██████████| 56/56 [00:00<00:00, 83.52it/s, loss=0.603]\n"
          ]
        },
        {
          "output_type": "stream",
          "name": "stdout",
          "text": [
            "Epoch: 07 | Epoch Time: 0m 3s\n",
            "\tTrain Loss: 1.032 | Train Acc: 64.90%\n",
            "\t Val. Loss: 1.241 |  Val. Acc: 57.32%\n",
            "Test Loss: 1.255 | Test Acc: 58.13%\n",
            "LENET implementation\n",
            "Train size = 974\n",
            "Val size = 139\n",
            "test_size=279\n"
          ]
        },
        {
          "output_type": "stream",
          "name": "stderr",
          "text": [
            "100%|██████████| 195/195 [00:02<00:00, 69.14it/s, loss=2.67]\n",
            "100%|██████████| 28/28 [00:00<00:00, 80.26it/s, loss=1.91]\n",
            "100%|██████████| 56/56 [00:00<00:00, 80.76it/s, loss=1.85]\n"
          ]
        },
        {
          "output_type": "stream",
          "name": "stdout",
          "text": [
            "Epoch: 01 | Epoch Time: 0m 3s\n",
            "\tTrain Loss: 2.205 | Train Acc: 20.10%\n",
            "\t Val. Loss: 1.927 |  Val. Acc: 29.46%\n",
            "Test Loss: 2.006 | Test Acc: 26.88%\n"
          ]
        },
        {
          "output_type": "stream",
          "name": "stderr",
          "text": [
            "100%|██████████| 195/195 [00:02<00:00, 68.88it/s, loss=0.873]\n",
            "100%|██████████| 28/28 [00:00<00:00, 81.69it/s, loss=0.199]\n",
            "100%|██████████| 56/56 [00:00<00:00, 80.37it/s, loss=0.501]\n"
          ]
        },
        {
          "output_type": "stream",
          "name": "stdout",
          "text": [
            "Epoch: 02 | Epoch Time: 0m 3s\n",
            "\tTrain Loss: 1.543 | Train Acc: 47.90%\n",
            "\t Val. Loss: 0.924 |  Val. Acc: 72.14%\n",
            "Test Loss: 1.010 | Test Acc: 69.91%\n"
          ]
        },
        {
          "output_type": "stream",
          "name": "stderr",
          "text": [
            "100%|██████████| 195/195 [00:02<00:00, 66.89it/s, loss=0.633]\n",
            "100%|██████████| 28/28 [00:00<00:00, 77.99it/s, loss=0.126]\n",
            "100%|██████████| 56/56 [00:00<00:00, 79.62it/s, loss=0.572]\n"
          ]
        },
        {
          "output_type": "stream",
          "name": "stdout",
          "text": [
            "Epoch: 03 | Epoch Time: 0m 4s\n",
            "\tTrain Loss: 0.746 | Train Acc: 76.90%\n",
            "\t Val. Loss: 0.634 |  Val. Acc: 77.86%\n",
            "Test Loss: 0.589 | Test Acc: 79.55%\n"
          ]
        },
        {
          "output_type": "stream",
          "name": "stderr",
          "text": [
            "100%|██████████| 195/195 [00:03<00:00, 64.93it/s, loss=0.464]\n",
            "100%|██████████| 28/28 [00:00<00:00, 78.34it/s, loss=0.0119]\n",
            "100%|██████████| 56/56 [00:00<00:00, 80.16it/s, loss=0.713]\n"
          ]
        },
        {
          "output_type": "stream",
          "name": "stdout",
          "text": [
            "Epoch: 04 | Epoch Time: 0m 4s\n",
            "\tTrain Loss: 0.483 | Train Acc: 84.00%\n",
            "\t Val. Loss: 0.658 |  Val. Acc: 84.29%\n",
            "Test Loss: 0.641 | Test Acc: 78.13%\n"
          ]
        },
        {
          "output_type": "stream",
          "name": "stderr",
          "text": [
            "100%|██████████| 195/195 [00:02<00:00, 65.97it/s, loss=0.127]\n",
            "100%|██████████| 28/28 [00:00<00:00, 79.15it/s, loss=0.00226]\n",
            "100%|██████████| 56/56 [00:00<00:00, 81.76it/s, loss=0.424]\n"
          ]
        },
        {
          "output_type": "stream",
          "name": "stdout",
          "text": [
            "Epoch: 05 | Epoch Time: 0m 4s\n",
            "\tTrain Loss: 0.347 | Train Acc: 89.23%\n",
            "\t Val. Loss: 0.344 |  Val. Acc: 90.00%\n",
            "Test Loss: 0.427 | Test Acc: 86.34%\n"
          ]
        },
        {
          "output_type": "stream",
          "name": "stderr",
          "text": [
            "100%|██████████| 195/195 [00:02<00:00, 67.42it/s, loss=0.0245]\n",
            "100%|██████████| 28/28 [00:00<00:00, 78.47it/s, loss=0.0151]\n",
            "100%|██████████| 56/56 [00:00<00:00, 73.45it/s, loss=0.204]\n"
          ]
        },
        {
          "output_type": "stream",
          "name": "stdout",
          "text": [
            "Epoch: 06 | Epoch Time: 0m 4s\n",
            "\tTrain Loss: 0.268 | Train Acc: 90.87%\n",
            "\t Val. Loss: 0.367 |  Val. Acc: 93.57%\n",
            "Test Loss: 0.387 | Test Acc: 87.77%\n"
          ]
        },
        {
          "output_type": "stream",
          "name": "stderr",
          "text": [
            "100%|██████████| 195/195 [00:02<00:00, 68.38it/s, loss=0.245]\n",
            "100%|██████████| 28/28 [00:00<00:00, 81.70it/s, loss=0.00238]\n",
            "100%|██████████| 56/56 [00:00<00:00, 81.10it/s, loss=0.185]"
          ]
        },
        {
          "output_type": "stream",
          "name": "stdout",
          "text": [
            "Epoch: 07 | Epoch Time: 0m 3s\n",
            "\tTrain Loss: 0.185 | Train Acc: 94.05%\n",
            "\t Val. Loss: 0.370 |  Val. Acc: 92.86%\n",
            "Test Loss: 0.381 | Test Acc: 90.63%\n"
          ]
        },
        {
          "output_type": "stream",
          "name": "stderr",
          "text": [
            "\n"
          ]
        }
      ],
      "source": [
        "if __name__ == \"__main__\":\n",
        "    main() "
      ]
    },
    {
      "cell_type": "code",
      "source": [
        ""
      ],
      "metadata": {
        "id": "PMEsI0NmK9cJ"
      },
      "execution_count": null,
      "outputs": []
    },
    {
      "cell_type": "markdown",
      "source": [
        "In vgg loss tooks more time to converge minima rather than other models.\n",
        "As compare to MLP architecture we got more accuracy in lenet for same learning rate and number of epochs.\n"
      ],
      "metadata": {
        "id": "sTcpU-BZIU1R"
      }
    }
  ],
  "metadata": {
    "accelerator": "GPU",
    "colab": {
      "collapsed_sections": [],
      "name": "image classification(using LeNet,AlexNet,MLP,VGG).ipynb",
      "provenance": []
    },
    "gpuClass": "standard",
    "kernelspec": {
      "display_name": "Python 3",
      "name": "python3"
    },
    "language_info": {
      "name": "python"
    }
  },
  "nbformat": 4,
  "nbformat_minor": 0
}